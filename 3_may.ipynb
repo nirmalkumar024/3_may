{
 "cells": [
  {
   "cell_type": "markdown",
   "id": "0a636e26-a1c4-431e-ab47-981f356a7303",
   "metadata": {},
   "source": [
    "Q1. What is the role of feature selection in anomaly detection?"
   ]
  },
  {
   "cell_type": "markdown",
   "id": "30309b48-a98b-4512-9c85-735f84354e65",
   "metadata": {},
   "source": [
    "Feature selection is usually used as a preprocessing step for outlier detection to obtain significant performance. There is little work on feature selection for outlier detection in categorical data, and many studies do not consider the interaction and complementarity of features simultaneously, or even confuse them."
   ]
  },
  {
   "cell_type": "markdown",
   "id": "cb118bb5-dbe8-4a25-a32e-79845da5ff20",
   "metadata": {},
   "source": [
    "Q2. What are some common evaluation metrics for anomaly detection algorithms and how are they\n",
    "computed?"
   ]
  },
  {
   "cell_type": "markdown",
   "id": "5baa2e91-c263-4fdd-b969-8e52346ac315",
   "metadata": {},
   "source": [
    "One way to evaluate anomaly detection models is to use precision and recall, which are commonly used for binary classification problems. Precision measures the fraction of detected anomalies that are actually true anomalies, while recall measures the fraction of true anomalies that are detected by the model"
   ]
  },
  {
   "cell_type": "markdown",
   "id": "c6554524-35e0-4214-b616-b387ffb86456",
   "metadata": {},
   "source": [
    "Q3. What is DBSCAN and how does it work for clustering?"
   ]
  },
  {
   "cell_type": "markdown",
   "id": "d9dd10b2-c9a8-4e27-b5d8-24372f38c59e",
   "metadata": {},
   "source": [
    "Defined distance (DBSCAN)—Uses a specified distance to separate dense clusters from sparser noise. The DBSCAN algorithm is the fastest of the clustering methods, but is only appropriate if there is a very clear search distance to use, and that works well for all potential clusters."
   ]
  },
  {
   "cell_type": "markdown",
   "id": "59daffba-d76a-4b8b-a1f7-c82a8554e36c",
   "metadata": {},
   "source": [
    "Q4. How does the epsilon parameter affect the performance of DBSCAN in detecting anomalies?"
   ]
  },
  {
   "cell_type": "markdown",
   "id": "15af1db0-ea77-466a-a06e-86f2f0d5d4f4",
   "metadata": {},
   "source": [
    "The effectiveness of DBSCAN is impacted by the selection of parameters, specifically the epsilon (ε) and minimum points (MinPts). Determining the most appropriate values for these factors relies on the specific attributes of the data, and an incorrect selection might impact the clustering outcomes"
   ]
  },
  {
   "cell_type": "markdown",
   "id": "3ac7f7db-6a36-4333-9eae-b8099a58fdc5",
   "metadata": {},
   "source": [
    "Q5. What are the differences between the core, border, and noise points in DBSCAN, and how do they relate\n",
    "to anomaly detection?"
   ]
  },
  {
   "cell_type": "markdown",
   "id": "2eaaa738-706b-41a7-a345-a41d1ce4e222",
   "metadata": {},
   "source": [
    "Core Point: A point is a core point if it has more than MinPts points within eps. Border Point: A point which has fewer than MinPts within eps but it is in the neighborhood of a core point. Noise or outlier: A point which is not a core point or border point."
   ]
  },
  {
   "cell_type": "markdown",
   "id": "cf841679-b78f-49a1-bf6f-356a281d6638",
   "metadata": {},
   "source": [
    "Q6. How does DBSCAN detect anomalies and what are the key parameters involved in the process?"
   ]
  },
  {
   "cell_type": "markdown",
   "id": "3d0a8314-dd63-439e-ba82-9bb91e31993e",
   "metadata": {},
   "source": [
    "There are two key parameters of DBSCAN : eps: The distance that specifies the neighborhoods. Two points are considered to be neighbors if the distance between them are less than or equal to eps. minPts: Minimum number of data points to define a cluster."
   ]
  },
  {
   "cell_type": "markdown",
   "id": "95fd46e6-8604-4cd7-9500-6f473bcd094a",
   "metadata": {},
   "source": [
    "Q7. What is the make_circles package in scikit-learn used for?"
   ]
  },
  {
   "cell_type": "raw",
   "id": "dd948534-9b3f-43e8-bc2b-1fd5e9a3955c",
   "metadata": {},
   "source": [
    "Make a large circle containing a smaller circle in 2d. A simple toy dataset to visualize clustering and classification algorithms."
   ]
  },
  {
   "cell_type": "markdown",
   "id": "46fc3ae1-16b8-423d-9ff2-15683d058a7d",
   "metadata": {},
   "source": [
    "Q8. What are local outliers and global outliers, and how do they differ from each other?"
   ]
  },
  {
   "cell_type": "markdown",
   "id": "440f4a47-ba8b-470a-be21-9e6a8d9cbaa0",
   "metadata": {},
   "source": [
    "A global outlier, outlier detection considers all data points, and the data point pt is considered an outlier if it is far away from all other data points, The local outlier detection covers a small subset of data points at a time "
   ]
  },
  {
   "cell_type": "markdown",
   "id": "ef11615f-dc62-4f40-b0f5-eab2468b8c7c",
   "metadata": {},
   "source": [
    "Q9. How can local outliers be detected using the Local Outlier Factor (LOF) algorithm?"
   ]
  },
  {
   "cell_type": "markdown",
   "id": "35b46850-f086-4dcf-8a8e-698c2c1ac43b",
   "metadata": {},
   "source": [
    "The Local Outlier Factor (LOF) algorithm is a powerful tool for detecting outliers in your datasets. By comparing the local density of data points with their neighbors, LOF can reveal data points that deviate significantly from the norm"
   ]
  },
  {
   "cell_type": "markdown",
   "id": "50f0b5a4-a3ff-4e68-bb01-7ce4cb0a6432",
   "metadata": {},
   "source": [
    "Q10. How can global outliers be detected using the Isolation Forest algorithm?"
   ]
  },
  {
   "cell_type": "markdown",
   "id": "68e87cdd-caeb-4b43-8ce6-962eb20507de",
   "metadata": {},
   "source": [
    "At its core, the Isolation Forest algorithm, it banks on the fundamental concept that anomalies, they deviate significantly, thereby making them easier to identify. Isolation Forests excel at anomaly detection by leveraging a unique approach: isolating anomalies instead of profiling normal data points."
   ]
  },
  {
   "cell_type": "markdown",
   "id": "1648ef15-6f6b-44ee-a5cc-e10bdf164e11",
   "metadata": {},
   "source": [
    "Q11. What are some real-world applications where local outlier detection is more appropriate than global\n",
    "outlier detection, and vice versa?"
   ]
  },
  {
   "cell_type": "markdown",
   "id": "5435510a-d8e5-4389-870b-bf490a0ba28c",
   "metadata": {},
   "source": [
    "A real-world example, the average height of a giraffe is about 16 feet tall. However, there have been recent discoveries of two giraffes that stand at 9 feet and 8.5 feet, respectively. These two giraffes would be considered outliers in comparison to the general giraffe population."
   ]
  }
 ],
 "metadata": {
  "kernelspec": {
   "display_name": "Python 3 (ipykernel)",
   "language": "python",
   "name": "python3"
  },
  "language_info": {
   "codemirror_mode": {
    "name": "ipython",
    "version": 3
   },
   "file_extension": ".py",
   "mimetype": "text/x-python",
   "name": "python",
   "nbconvert_exporter": "python",
   "pygments_lexer": "ipython3",
   "version": "3.10.8"
  }
 },
 "nbformat": 4,
 "nbformat_minor": 5
}
